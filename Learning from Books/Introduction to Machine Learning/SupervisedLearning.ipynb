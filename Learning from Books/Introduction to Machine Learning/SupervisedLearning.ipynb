{
 "cells": [
  {
   "cell_type": "markdown",
   "metadata": {},
   "source": [
    "Supervised learning is used whenever we want to predict a certain outcome from a give input, and we have examples of input/output pairs."
   ]
  },
  {
   "cell_type": "markdown",
   "metadata": {},
   "source": [
    "# **Classification and Regression**\n",
    "These are two major types of supervised machine learning problems.  \n",
    "\n",
    "**Classification**  \n",
    "In classification is to predict a class label, which is a choice from a predefined list of possibilities. The example of this problem is classifying emails as either spam or not spam.  \n",
    "\n",
    "**Regression**  \n",
    "For regression tasks, the goal is to predict a continuous number, or a floating-point number in programming terms. Predicting a person's annual income from their education, age, and where they live is an example of a regression task. "
   ]
  },
  {
   "cell_type": "markdown",
   "metadata": {},
   "source": [
    "# **Generalization, Overfitting, and Underfitting**\n",
    "If a model is able to make accurate predictions on unseen data, we say it is able to generalize from the training set to the test set. The only measure of whether an algorithm will perform well on new data is the evaluation on the test set.  \n",
    "\n",
    "**Overfitting**  \n",
    "Building a model that is too complex for the amount of information we have is called overfitting. Overfitting occurs when you fit a model too closely to the particularities of the training set and obtain a model that works well on the training set but is not able to generalize to new data.\n",
    "\n",
    "**Underfitting**  \n",
    "On the opposite end of the spectrum, if the model is too simple, then the model might not be able to capture all the aspects of and variability in the data. The model might even do badly on the training set. This is called underfitting.\n",
    "  \n",
    "![Trade off in Overfitting and Underfitting](../Introduction%20to%20Machine%20Learning/Image/1.png)\n"
   ]
  },
  {
   "cell_type": "markdown",
   "metadata": {},
   "source": []
  }
 ],
 "metadata": {
  "language_info": {
   "name": "python"
  }
 },
 "nbformat": 4,
 "nbformat_minor": 2
}
