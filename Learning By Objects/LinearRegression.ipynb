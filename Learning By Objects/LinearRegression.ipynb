{
 "cells": [
  {
   "cell_type": "markdown",
   "metadata": {},
   "source": [
    "# **Basic Concept**\n",
    "Linear Regression is a statistical method used to model the relationship between a dependent variable and one or more inependent variables. The basic idea is to fit a linear equation to observed data. The simplest form of linear regression is a straight line fit to data, known as simple linear regression. When there are multiple independent variables, it's called multiple linear regression.\n",
    "\n",
    "The general form of linear regression model is :  \n",
    "Y=β0 + β1.X1 + β2.X2 + ... + βn.Xn + ϵ  \n",
    "\n",
    "Y : Dependent variable  \n",
    "Xn : Independent variable  \n",
    "β0 : is the y-intercept  \n",
    "β1, βn : coefficient of the independent variable  \n",
    "ϵ is the error term  "
   ]
  },
  {
   "cell_type": "markdown",
   "metadata": {},
   "source": [
    "# Key aspect\n",
    "1. Coefficient : They represent the relationship between each independent variable and the dependent variable. The magnitude and sign (positive/negative) of coefficients indicate the strength and direction of the relationship.\n",
    "2. Assumptions : Linear regression has several key assumptions, including linearity, independence, homoscedasticity (constant variance of errors), and normal distribution of errors.\n",
    "\n",
    "3. Goodness-of-Fit: The R-squared value is often used to determine how well the regression model fits the observed data. It ranges from 0 to 1, with higher values indicating a better fit.\n",
    "\n",
    "4. Overfitting and Underfitting: Linear regression models can suffer from overfitting (too complex model for the data) or underfitting (too simple model for the data).\n",
    "\n",
    "5. Regularization: Techniques like Ridge and Lasso regression introduce regularization terms to prevent overfitting by penalizing large coefficients."
   ]
  },
  {
   "cell_type": "code",
   "execution_count": null,
   "metadata": {},
   "outputs": [],
   "source": []
  }
 ],
 "metadata": {
  "language_info": {
   "name": "python"
  }
 },
 "nbformat": 4,
 "nbformat_minor": 2
}
